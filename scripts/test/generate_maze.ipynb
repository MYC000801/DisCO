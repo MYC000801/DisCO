{
 "cells": [
  {
   "cell_type": "code",
   "execution_count": 1,
   "metadata": {},
   "outputs": [
    {
     "name": "stdout",
     "output_type": "stream",
     "text": [
      "Start: (0, 2)\n",
      "End: (6, 2)\n",
      "[0, 0, 0, 0, 0, 0, 0]\n",
      "[0, 1, 0, 1, 0, 1, 0]\n",
      "[0, 1, 0, 1, 0, 1, 0]\n",
      "[0, 1, 0, 1, 1, 1, 0]\n",
      "[0, 1, 0, 0, 0, 1, 0]\n",
      "[0, 1, 1, 1, 1, 1, 0]\n",
      "[0, 1, 0, 0, 0, 0, 0]\n"
     ]
    }
   ],
   "source": [
    "import random\n",
    "import collections\n",
    "import heapq\n",
    "from collections import deque\n",
    "from typing import Tuple, List\n",
    "\n",
    "def generate_branchy_maze(\n",
    "    n: int,\n",
    "    branchiness: float = 0.8,\n",
    "    farthest_goal: bool = True\n",
    ") -> Tuple[Tuple[int, int], Tuple[int, int], List[List[int]]]:\n",
    "    \"\"\"\n",
    "    随机生成一张“分叉可调”的 perfect maze，并随机选取 start / goal。\n",
    "\n",
    "    参数\n",
    "    ----\n",
    "    n            : 迷宫边长 (方形，单位格)\n",
    "    branchiness  : 0‑1，越大分叉越多；≈0 -> DFS，≈1 -> Prim\n",
    "    farthest_goal: True -> 选离 start 最远的格子当 goal；False -> 随机可达格\n",
    "\n",
    "    返回\n",
    "    ----\n",
    "    (start, goal, maze)   其中 maze[i][j] == 0 表路, 1 表墙\n",
    "    \"\"\"\n",
    "    # ---------- 初始化 ----------\n",
    "    maze = [[1] * n for _ in range(n)]\n",
    "\n",
    "    # start 随机挑一个偶数坐标 (保证格子间隔 2 时相邻仍在网格内)\n",
    "    def rand_even(limit):                       # 0,2,4,… < limit\n",
    "        max_even = limit - 1 if limit % 2 else limit - 2\n",
    "        return random.randrange(0, max_even + 1, 2)\n",
    "\n",
    "    start = (rand_even(n), rand_even(n))\n",
    "\n",
    "    # ---------- Growing‑Tree 主循环 ----------\n",
    "    def neighbors(x, y):\n",
    "        # 返回: (邻居 x, 邻居 y, (wx, wy) 墙坐标增量)\n",
    "        for dx, dy in [(0, 2), (2, 0), (0, -2), (-2, 0)]:\n",
    "            nx, ny = x + dx, y + dy\n",
    "            if 0 <= nx < n and 0 <= ny < n:\n",
    "                yield nx, ny, dx // 2, dy // 2\n",
    "\n",
    "    maze[start[0]][start[1]] = 0\n",
    "    active = [start]\n",
    "\n",
    "    while active:\n",
    "        idx = -1 if random.random() > branchiness else random.randrange(len(active))\n",
    "        x, y = active[idx]\n",
    "\n",
    "        unvisited = [(nx, ny, wx, wy) for nx, ny, wx, wy in neighbors(x, y)\n",
    "                     if maze[nx][ny] == 1]\n",
    "\n",
    "        if unvisited:\n",
    "            nx, ny, wx, wy = random.choice(unvisited)\n",
    "            maze[x + wx][y + wy] = 0         # 打通墙\n",
    "            maze[nx][ny] = 0\n",
    "            active.append((nx, ny))\n",
    "        else:\n",
    "            active.pop(idx)                  # 死胡同：移除\n",
    "\n",
    "    # ---------- 选取 goal ----------\n",
    "    def bfs_farthest(src):\n",
    "        \"\"\"BFS 找到离 src 最远的可通行格；返回坐标\"\"\"\n",
    "        vis = {src}\n",
    "        q = deque([(src[0], src[1], 0)])\n",
    "        far, far_dist = src, 0\n",
    "        while q:\n",
    "            x, y, d = q.popleft()\n",
    "            if d > far_dist:\n",
    "                far, far_dist = (x, y), d\n",
    "            for dx, dy in [(0, 1), (1, 0), (0, -1), (-1, 0)]:\n",
    "                nx, ny = x + dx, y + dy\n",
    "                if 0 <= nx < n and 0 <= ny < n and maze[nx][ny] == 0 and (nx, ny) not in vis:\n",
    "                    vis.add((nx, ny))\n",
    "                    q.append((nx, ny, d + 1))\n",
    "        return far\n",
    "\n",
    "    if farthest_goal:\n",
    "        goal = bfs_farthest(start)\n",
    "    else:\n",
    "        path_cells = [(i, j) for i in range(n) for j in range(n)\n",
    "                      if maze[i][j] == 0 and (i, j) != start]\n",
    "        goal = random.choice(path_cells)\n",
    "\n",
    "    # 保证 start / goal 两格都是路\n",
    "    maze[start[0]][start[1]] = 0\n",
    "    maze[goal[0]][goal[1]]   = 0\n",
    "\n",
    "    return start, goal, maze\n",
    "\n",
    "\n",
    "# ────────────────────────── 2. 工具函数 ──────────────────────────\n",
    "DIRS = [ (0, -1), (0, 1), (-1, 0), (1, 0) ]          # 左、右、上、下\n",
    "def to1(p):                                           # 0‑based → 字符串 \"(x, y)\" 1‑based\n",
    "    return f\"({p[0] + 1}, {p[1] + 1})\"\n",
    "\n",
    "def observation_str(pos, maze, goal):\n",
    "    n, (x, y) = len(maze), pos\n",
    "    parts = []\n",
    "    for dx, dy in DIRS:                               # 左→右→上→下\n",
    "        nx, ny = x + dx, y + dy\n",
    "        if 0 <= nx < n and 0 <= ny < n:\n",
    "            if (nx, ny) == goal:\n",
    "                state = \"exit\"\n",
    "            else:\n",
    "                state = \"path\" if maze[nx][ny] == 0 else \"wall\"\n",
    "        else:\n",
    "            state = \"wall\"\n",
    "        parts.append(f\"({nx + 1}, {ny + 1}): {state}\")\n",
    "    return \"; \".join(parts)\n",
    "\n",
    "# 已知网格内的 BFS 最短路（返回 deque，空表示不可达或就在原地）\n",
    "def shortest_path(src, dst, walkable):\n",
    "    if src == dst:\n",
    "        return collections.deque()\n",
    "    q = collections.deque([src])\n",
    "    parent = {src: None}\n",
    "    while q:\n",
    "        cur = q.popleft()\n",
    "        if cur == dst:\n",
    "            break\n",
    "        for dx, dy in DIRS:\n",
    "            nxt = (cur[0] + dx, cur[1] + dy)\n",
    "            if nxt in walkable and nxt not in parent:\n",
    "                parent[nxt] = cur\n",
    "                q.append(nxt)\n",
    "    if dst not in parent:\n",
    "        return collections.deque()\n",
    "    path = collections.deque()\n",
    "    cur = dst\n",
    "    while cur != src:\n",
    "        path.appendleft(cur)\n",
    "        cur = parent[cur]\n",
    "    return path\n",
    "\n",
    "\n",
    "# ────────────────────────── 4. DEMO ──────────────────────────\n",
    "if __name__ == \"__main__\":\n",
    "    start, goal, maze = generate_branchy_maze(7)   # 或者用你自己的 maze\n",
    "    print(\"Start:\", start)\n",
    "    print(\"End:\", goal)\n",
    "    for row in maze:\n",
    "        print(row)\n"
   ]
  },
  {
   "cell_type": "code",
   "execution_count": null,
   "metadata": {},
   "outputs": [],
   "source": [
    "def build_chat_history(maze, start, goal):\n",
    "    \"\"\"\n",
    "    返回符合 OpenAI ChatCompletion 输入格式的 messages 列表：\n",
    "    user ⇒ observation\n",
    "    assistant ⇒ move\n",
    "    \"\"\"\n",
    "    DIRS = [(0, -1), (0, 1), (-1, 0), (1, 0)]     # 左右上下\n",
    "\n",
    "    def to1(p):                                    # (0‑based) → \"(x, y)\" (1‑based)\n",
    "        return f\"({p[0] + 1}, {p[1] + 1})\"\n",
    "\n",
    "    def obs_content(pos):\n",
    "        n, (x, y) = len(maze), pos\n",
    "        parts = []\n",
    "        for dx, dy in DIRS:                        # 左→右→上→下\n",
    "            nx, ny = x + dx, y + dy\n",
    "            if 0 <= nx < n and 0 <= ny < n:\n",
    "                state = (\n",
    "                    \"exit\"  if (nx, ny) == goal else\n",
    "                    \"path\"  if maze[nx][ny] == 0 else\n",
    "                    \"wall\"\n",
    "                )\n",
    "            else:\n",
    "                state = \"wall\"\n",
    "            parts.append(f\"({nx + 1}, {ny + 1}): {state}\")\n",
    "        return \", \".join(parts)                    # 用逗号分隔\n",
    "\n",
    "    # ---------- 增量建图：与原 build_history_str 基本一致 ----------\n",
    "    known, walls, frontier, task = {start}, set(), [], collections.deque()\n",
    "    pos   = start\n",
    "    gx, gy = goal\n",
    "    messages = [{\"role\": \"user\", \"content\": obs_content(pos)}]\n",
    "\n",
    "    def push_frontier(c):\n",
    "        h = abs(c[0] - gx) + abs(c[1] - gy)\n",
    "        heapq.heappush(frontier, (h, c))\n",
    "\n",
    "    while True:\n",
    "        # 1) 处理观测\n",
    "        for dx, dy in DIRS:\n",
    "            c = (pos[0] + dx, pos[1] + dy)\n",
    "            if 0 <= c[0] < len(maze) and 0 <= c[1] < len(maze):\n",
    "                if maze[c[0]][c[1]] == 0 or c == goal:\n",
    "                    if c not in known:\n",
    "                        known.add(c)\n",
    "                        push_frontier(c)\n",
    "                else:\n",
    "                    walls.add(c)\n",
    "\n",
    "        # 2) 结束\n",
    "        if pos == goal:\n",
    "            break\n",
    "\n",
    "        # 3) 如无任务 ⇒ 规划\n",
    "        if not task:\n",
    "            if goal in known:\n",
    "                task = shortest_path(pos, goal, known)\n",
    "            while not task and frontier:\n",
    "                _, tgt = heapq.heappop(frontier)\n",
    "                task = shortest_path(pos, tgt, known)\n",
    "            if not task:\n",
    "                raise RuntimeError(\"No reachable target\")\n",
    "\n",
    "        # 4) 执行一步\n",
    "        nxt = task.popleft()\n",
    "        messages.append({\"role\": \"assistant\", \"content\": to1(nxt)})\n",
    "        pos = nxt\n",
    "        if pos != goal:                            # 到终点就不再发送观测\n",
    "            messages.append({\"role\": \"user\", \"content\": obs_content(pos)})\n",
    "\n",
    "    return messages\n",
    "\n",
    "\n",
    "msgs = build_chat_history(maze, start, goal)\n",
    "\n",
    "import json, pprint\n",
    "pprint.pprint(msgs)                 # 直接看结构\n"
   ]
  },
  {
   "cell_type": "code",
   "execution_count": 3,
   "metadata": {},
   "outputs": [],
   "source": [
    "msgs = []\n",
    "for i in range(100000):\n",
    "    start, goal, maze = generate_branchy_maze(7)\n",
    "    msg = build_chat_history(maze, start, goal)\n",
    "    msgs.append(msg)"
   ]
  },
  {
   "cell_type": "code",
   "execution_count": 10,
   "metadata": {},
   "outputs": [
    {
     "name": "stdout",
     "output_type": "stream",
     "text": [
      "[{'role': 'user', 'content': '(1, 0): wall, (1, 2): path, (0, 1): wall, (2, 1): path'}, {'role': 'assistant', 'content': '(1, 2)'}, {'role': 'user', 'content': '(1, 1): path, (1, 3): path, (0, 2): wall, (2, 2): wall'}, {'role': 'assistant', 'content': '(1, 3)'}, {'role': 'user', 'content': '(1, 2): path, (1, 4): path, (0, 3): wall, (2, 3): path'}, {'role': 'assistant', 'content': '(1, 4)'}, {'role': 'user', 'content': '(1, 3): path, (1, 5): path, (0, 4): wall, (2, 4): wall'}, {'role': 'assistant', 'content': '(1, 5)'}, {'role': 'user', 'content': '(1, 4): path, (1, 6): path, (0, 5): wall, (2, 5): wall'}, {'role': 'assistant', 'content': '(1, 6)'}, {'role': 'user', 'content': '(1, 5): path, (1, 7): path, (0, 6): wall, (2, 6): wall'}, {'role': 'assistant', 'content': '(1, 7)'}, {'role': 'user', 'content': '(1, 6): path, (1, 8): wall, (0, 7): wall, (2, 7): wall'}, {'role': 'assistant', 'content': '(1, 6)'}, {'role': 'user', 'content': '(1, 5): path, (1, 7): path, (0, 6): wall, (2, 6): wall'}, {'role': 'assistant', 'content': '(1, 5)'}, {'role': 'user', 'content': '(1, 4): path, (1, 6): path, (0, 5): wall, (2, 5): wall'}, {'role': 'assistant', 'content': '(1, 4)'}, {'role': 'user', 'content': '(1, 3): path, (1, 5): path, (0, 4): wall, (2, 4): wall'}, {'role': 'assistant', 'content': '(1, 3)'}, {'role': 'user', 'content': '(1, 2): path, (1, 4): path, (0, 3): wall, (2, 3): path'}, {'role': 'assistant', 'content': '(2, 3)'}, {'role': 'user', 'content': '(2, 2): wall, (2, 4): wall, (1, 3): path, (3, 3): path'}, {'role': 'assistant', 'content': '(3, 3)'}, {'role': 'user', 'content': '(3, 2): wall, (3, 4): path, (2, 3): path, (4, 3): wall'}, {'role': 'assistant', 'content': '(3, 4)'}, {'role': 'user', 'content': '(3, 3): path, (3, 5): path, (2, 4): wall, (4, 4): wall'}, {'role': 'assistant', 'content': '(3, 5)'}, {'role': 'user', 'content': '(3, 4): path, (3, 6): path, (2, 5): wall, (4, 5): path'}, {'role': 'assistant', 'content': '(3, 6)'}, {'role': 'user', 'content': '(3, 5): path, (3, 7): path, (2, 6): wall, (4, 6): wall'}, {'role': 'assistant', 'content': '(3, 7)'}, {'role': 'user', 'content': '(3, 6): path, (3, 8): wall, (2, 7): wall, (4, 7): path'}, {'role': 'assistant', 'content': '(4, 7)'}, {'role': 'user', 'content': '(4, 6): wall, (4, 8): wall, (3, 7): path, (5, 7): path'}, {'role': 'assistant', 'content': '(5, 7)'}, {'role': 'user', 'content': '(5, 6): wall, (5, 8): wall, (4, 7): path, (6, 7): path'}, {'role': 'assistant', 'content': '(6, 7)'}, {'role': 'user', 'content': '(6, 6): wall, (6, 8): wall, (5, 7): path, (7, 7): exit'}, {'role': 'assistant', 'content': '(7, 7)'}]\n"
     ]
    }
   ],
   "source": [
    "print(msgs[0])"
   ]
  },
  {
   "cell_type": "code",
   "execution_count": 23,
   "metadata": {},
   "outputs": [],
   "source": [
    "import pandas as pd\n",
    "from datasets import Dataset, Features, Sequence, Value\n",
    "\n",
    "# 假设 msgs 是 list[list[dict]]\n",
    "df = pd.DataFrame({\"chat\": msgs})\n",
    "\n",
    "\n",
    "# 2️⃣ DataFrame ➜ Dataset\n",
    "ds = Dataset.from_pandas(df)"
   ]
  },
  {
   "cell_type": "code",
   "execution_count": 4,
   "metadata": {},
   "outputs": [],
   "source": [
    "import pandas as pd\n",
    "\n",
    "# 假设 msgs = [ [ {\"role\":\"user\",\"content\":\"Hi\"}, ... ],   # 第 0 条\n",
    "#               [ {\"role\":\"assistant\",\"content\":\"Hello\"}, ... ], ... ]\n",
    "\n",
    "rows = [{'chat': m} for m in msgs]         # 每行是 {'chat': <list[dict]>}\n",
    "df   = pd.DataFrame({'extra_info': rows})  # 只有一列 extra_info\n",
    "df.to_parquet('/projectnb/rlhf/mingyuc/DisCO/datasets/maze/train100000.parquet',\n",
    "              engine='pyarrow',           # 推荐，用 Arrow 写更快\n",
    "              index=False)                # 不把行索引写进去\n"
   ]
  },
  {
   "cell_type": "code",
   "execution_count": 5,
   "metadata": {},
   "outputs": [
    {
     "name": "stdout",
     "output_type": "stream",
     "text": [
      "                                              extra_info\n",
      "0      {'chat': [{'role': 'user', 'content': '(5, 4):...\n",
      "1      {'chat': [{'role': 'user', 'content': '(1, 4):...\n",
      "2      {'chat': [{'role': 'user', 'content': '(7, 6):...\n",
      "3      {'chat': [{'role': 'user', 'content': '(1, 4):...\n",
      "4      {'chat': [{'role': 'user', 'content': '(5, 0):...\n",
      "...                                                  ...\n",
      "99995  {'chat': [{'role': 'user', 'content': '(5, 0):...\n",
      "99996  {'chat': [{'role': 'user', 'content': '(5, 0):...\n",
      "99997  {'chat': [{'role': 'user', 'content': '(3, 6):...\n",
      "99998  {'chat': [{'role': 'user', 'content': '(1, 6):...\n",
      "99999  {'chat': [{'role': 'user', 'content': '(1, 6):...\n",
      "\n",
      "[100000 rows x 1 columns]\n"
     ]
    }
   ],
   "source": [
    "print(df)"
   ]
  },
  {
   "cell_type": "code",
   "execution_count": 24,
   "metadata": {},
   "outputs": [
    {
     "name": "stdout",
     "output_type": "stream",
     "text": [
      "Dataset({\n",
      "    features: ['chat'],\n",
      "    num_rows: 10000\n",
      "})\n"
     ]
    }
   ],
   "source": [
    "print(ds)"
   ]
  },
  {
   "cell_type": "code",
   "execution_count": 13,
   "metadata": {},
   "outputs": [
    {
     "name": "stderr",
     "output_type": "stream",
     "text": [
      "Creating parquet from Arrow format: 100%|██████████| 10/10 [00:00<00:00, 163.76ba/s]\n",
      "Uploading the dataset shards: 100%|██████████| 1/1 [00:00<00:00,  1.20it/s]\n"
     ]
    },
    {
     "data": {
      "text/plain": [
       "CommitInfo(commit_url='https://huggingface.co/datasets/MYC081/maze-sft/commit/9f8ec14685a0d56b833a681f22ae2f56e7640e2d', commit_message='Upload dataset', commit_description='', oid='9f8ec14685a0d56b833a681f22ae2f56e7640e2d', pr_url=None, repo_url=RepoUrl('https://huggingface.co/datasets/MYC081/maze-sft', endpoint='https://huggingface.co', repo_type='dataset', repo_id='MYC081/maze-sft'), pr_revision=None, pr_num=None)"
      ]
     },
     "execution_count": 13,
     "metadata": {},
     "output_type": "execute_result"
    }
   ],
   "source": [
    "ds.push_to_hub(\n",
    "    \"MYC081/maze-sft\"\n",
    ")"
   ]
  },
  {
   "cell_type": "code",
   "execution_count": 1,
   "metadata": {},
   "outputs": [
    {
     "name": "stdout",
     "output_type": "stream",
     "text": [
      "0       {'answer': 'Natalia sold 48/2 = <<48/2=24>>24 ...\n",
      "1       {'answer': 'Weng earns 12/60 = $<<12/60=0.2>>0...\n",
      "2       {'answer': 'In the beginning, Betty has only 1...\n",
      "3       {'answer': 'Maila read 12 x 2 = <<12*2=24>>24 ...\n",
      "4       {'answer': 'He writes each friend 3*2=<<3*2=6>...\n",
      "                              ...                        \n",
      "7468    {'answer': 'For the distance she traveled, Eli...\n",
      "7469    {'answer': 'He makes $.5 profit on each bracel...\n",
      "7470    {'answer': 'Tony can skip at twice the speed t...\n",
      "7471    {'answer': 'Janet needs 35 lunches for the kid...\n",
      "7472    {'answer': 'If Anika is 30 now, in 15 years, s...\n",
      "Name: extra_info, Length: 7473, dtype: object\n"
     ]
    }
   ],
   "source": [
    "import pandas as pd\n",
    "\n",
    "# pip install -U pandas pyarrow\n",
    "df = pd.read_parquet(\"/projectnb/rlhf/mingyuc/TinyZero/TinyZero_old/data/gsm8k/train.parquet\")   # 若是 S3 路径同样支持\n",
    "print(df['extra_info'])\n",
    "\n"
   ]
  }
 ],
 "metadata": {
  "kernelspec": {
   "display_name": "apo",
   "language": "python",
   "name": "apo"
  },
  "language_info": {
   "codemirror_mode": {
    "name": "ipython",
    "version": 3
   },
   "file_extension": ".py",
   "mimetype": "text/x-python",
   "name": "python",
   "nbconvert_exporter": "python",
   "pygments_lexer": "ipython3",
   "version": "3.10.16"
  },
  "orig_nbformat": 4
 },
 "nbformat": 4,
 "nbformat_minor": 2
}
